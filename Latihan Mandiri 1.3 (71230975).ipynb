{
 "cells": [
  {
   "cell_type": "code",
   "execution_count": 2,
   "id": "f84092f5",
   "metadata": {},
   "outputs": [
    {
     "name": "stdout",
     "output_type": "stream",
     "text": [
      "Bunga Tahun 1 :  220000000\n"
     ]
    }
   ],
   "source": [
    "#Keterangan Awal\n",
    "P = 200000000\n",
    "r = 0.1\n",
    "n = 1\n",
    "t = 0\n",
    "\n",
    "#Rumus Mencari Jawaban\n",
    "A = int(P * (1+r/n) **(n*t))\n",
    "\n",
    "#Bunga Tahun 1\n",
    "t = 1\n",
    "A1 = int(P * (1+r/n) **(n*t))\n",
    "print(\"Bunga Tahun 1 : \", A1)"
   ]
  },
  {
   "cell_type": "code",
   "execution_count": 3,
   "id": "268e93ca",
   "metadata": {},
   "outputs": [
    {
     "name": "stdout",
     "output_type": "stream",
     "text": [
      "Bunga Tahun 2 :  242000000\n"
     ]
    }
   ],
   "source": [
    "#Keterangan Awal\n",
    "P = 200000000\n",
    "r = 0.1\n",
    "n = 1\n",
    "t = 0\n",
    "\n",
    "#Rumus Mencari Jawaban\n",
    "A = int(P * (1+r/n) **(n*t))\n",
    "\n",
    "#Bunga Tahun 2\n",
    "t = 2\n",
    "A2 = int(P * (1+r/n) **(n*t))\n",
    "print(\"Bunga Tahun 2 : \", A2)"
   ]
  },
  {
   "cell_type": "code",
   "execution_count": 4,
   "id": "f6320e18",
   "metadata": {},
   "outputs": [
    {
     "name": "stdout",
     "output_type": "stream",
     "text": [
      "Bunga Tahun 3 :  266200000\n"
     ]
    }
   ],
   "source": [
    "#Keterangan Awal\n",
    "P = 200000000\n",
    "r = 0.1\n",
    "n = 1\n",
    "t = 0\n",
    "\n",
    "#Rumus Mencari Jawaban\n",
    "A = int(P * (1+r/n) **(n*t))\n",
    "\n",
    "#Bunga Tahun 3\n",
    "t = 3\n",
    "A3 = int(P * (1+r/n) **(n*t))\n",
    "print(\"Bunga Tahun 3 : \", A3)"
   ]
  },
  {
   "cell_type": "code",
   "execution_count": 6,
   "id": "1103916c",
   "metadata": {},
   "outputs": [
    {
     "name": "stdout",
     "output_type": "stream",
     "text": [
      "Bunga Tahun 4 :  292820000\n"
     ]
    }
   ],
   "source": [
    "#Keterangan Awal\n",
    "P = 200000000\n",
    "r = 0.1\n",
    "n = 1\n",
    "t = 0\n",
    "\n",
    "#Rumus Mencari Jawaban\n",
    "A = int(P * (1+r/n) **(n*t))\n",
    "\n",
    "#Bunga Tahun 4\n",
    "t = 4\n",
    "A4 = int(P * (1+r/n) **(n*t))\n",
    "print(\"Bunga Tahun 4 : \", A4)"
   ]
  },
  {
   "cell_type": "code",
   "execution_count": 8,
   "id": "c43328ab",
   "metadata": {},
   "outputs": [
    {
     "name": "stdout",
     "output_type": "stream",
     "text": [
      "Bunga Tahun 5 :  322102000\n"
     ]
    }
   ],
   "source": [
    "#Keterangan Awal\n",
    "P = 200000000\n",
    "r = 0.1\n",
    "n = 1\n",
    "t = 0\n",
    "\n",
    "#Rumus Mencari Jawaban\n",
    "A = int(P * (1+r/n) **(n*t))\n",
    "\n",
    "#Bunga Tahun 5\n",
    "t = 5\n",
    "A5 = int(P * (1+r/n) **(n*t))\n",
    "print(\"Bunga Tahun 5 : \", A5)"
   ]
  },
  {
   "cell_type": "code",
   "execution_count": 9,
   "id": "102c8d6f",
   "metadata": {},
   "outputs": [
    {
     "name": "stdout",
     "output_type": "stream",
     "text": [
      "Bunga Tahun 6 :  354312200\n"
     ]
    }
   ],
   "source": [
    "#Keterangan Awal\n",
    "P = 200000000\n",
    "r = 0.1\n",
    "n = 1\n",
    "t = 0\n",
    "\n",
    "#Rumus Mencari Jawaban\n",
    "A = int(P * (1+r/n) **(n*t))\n",
    "\n",
    "#Bunga Tahun 6\n",
    "t = 6\n",
    "A6 = int(P * (1+r/n) **(n*t))\n",
    "print(\"Bunga Tahun 6 : \", A6)"
   ]
  },
  {
   "cell_type": "code",
   "execution_count": 11,
   "id": "cff92362",
   "metadata": {},
   "outputs": [
    {
     "name": "stdout",
     "output_type": "stream",
     "text": [
      "Bunga Tahun 7 :  389743420\n"
     ]
    }
   ],
   "source": [
    "#Keterangan Awal\n",
    "P = 200000000\n",
    "r = 0.1\n",
    "n = 1\n",
    "t = 0\n",
    "\n",
    "#Rumus Mencari Jawaban\n",
    "A = int(P * (1+r/n) **(n*t))\n",
    "\n",
    "#Bunga Tahun 7\n",
    "t = 7\n",
    "A7 = int(P * (1+r/n) **(n*t))\n",
    "print(\"Bunga Tahun 7 : \", A7)"
   ]
  },
  {
   "cell_type": "code",
   "execution_count": 12,
   "id": "1ccb94f0",
   "metadata": {},
   "outputs": [
    {
     "name": "stdout",
     "output_type": "stream",
     "text": [
      "Bunga Tahun 8 :  428717762\n"
     ]
    }
   ],
   "source": [
    "#Keterangan Awal\n",
    "P = 200000000\n",
    "r = 0.1\n",
    "n = 1\n",
    "t = 0\n",
    "\n",
    "#Rumus Mencari Jawaban\n",
    "A = int(P * (1+r/n) **(n*t))\n",
    "\n",
    "#Bunga Tahun 8\n",
    "t = 8\n",
    "A8 = int(P * (1+r/n) **(n*t))\n",
    "print(\"Bunga Tahun 8 : \", A8)"
   ]
  },
  {
   "cell_type": "code",
   "execution_count": 13,
   "id": "fc41b3b6",
   "metadata": {},
   "outputs": [
    {
     "name": "stdout",
     "output_type": "stream",
     "text": [
      "jadi Waktu yang dibutuhkan untuk mencapai 400 Juta sekitar  8 tahun\n"
     ]
    }
   ],
   "source": [
    "#Dengan Cara yang lebih singkat\n",
    "P = 200000000\n",
    "A_minimum = 400000000\n",
    "r = 0.1\n",
    "n = 1\n",
    "t = 0 #karena nilai t belum diketahui\n",
    "A = P * (1 + r/n)**(n*t) #rumusnya\n",
    "#disini karena nilai A belum diketahui asumsi jika nilai \n",
    "A = P\n",
    "while A < A_minimum: #fungsi while menunjukkan kata ketika dimana A harus kurang dari target kita  \n",
    "    t += 1 #fungsi untuk menambah t dimulai dari 1,2,3,4, dst dan akan berhenti ketika mencapai target yang kita inginkan\n",
    "    A = P * (1 + r/n)**(n*t)\n",
    "print( \"jadi Waktu yang dibutuhkan untuk mencapai 400 Juta sekitar \",t, \"tahun\")"
   ]
  },
  {
   "cell_type": "code",
   "execution_count": null,
   "id": "e23771da",
   "metadata": {},
   "outputs": [],
   "source": []
  }
 ],
 "metadata": {
  "kernelspec": {
   "display_name": "Python 3 (ipykernel)",
   "language": "python",
   "name": "python3"
  },
  "language_info": {
   "codemirror_mode": {
    "name": "ipython",
    "version": 3
   },
   "file_extension": ".py",
   "mimetype": "text/x-python",
   "name": "python",
   "nbconvert_exporter": "python",
   "pygments_lexer": "ipython3",
   "version": "3.11.5"
  }
 },
 "nbformat": 4,
 "nbformat_minor": 5
}
